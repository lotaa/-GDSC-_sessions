{
 "cells": [
  {
   "cell_type": "markdown",
   "id": "931fa63c",
   "metadata": {},
   "source": [
    "# Importing the Libraries"
   ]
  },
  {
   "cell_type": "code",
   "execution_count": 2,
   "id": "ceebbe14",
   "metadata": {},
   "outputs": [],
   "source": [
    "# Importing the required packages\n",
    "import numpy as np\n",
    "import pandas as pd\n",
    "from sklearn.metrics import confusion_matrix\n",
    "from sklearn.model_selection import train_test_split\n",
    "from sklearn.tree import DecisionTreeClassifier\n",
    "from sklearn.metrics import accuracy_score\n",
    "from sklearn.metrics import classification_report"
   ]
  },
  {
   "cell_type": "markdown",
   "id": "01d674c4",
   "metadata": {},
   "source": [
    "# Importing the dataset"
   ]
  },
  {
   "cell_type": "code",
   "execution_count": 5,
   "id": "ed83f5fd",
   "metadata": {},
   "outputs": [],
   "source": [
    "#read data\n",
    "df = pd.read_csv('Cat_data.csv')"
   ]
  },
  {
   "cell_type": "markdown",
   "id": "3e910685",
   "metadata": {},
   "source": [
    "# show dataset"
   ]
  },
  {
   "cell_type": "code",
   "execution_count": 6,
   "id": "ecf8cc38",
   "metadata": {},
   "outputs": [
    {
     "data": {
      "text/html": [
       "<div>\n",
       "<style scoped>\n",
       "    .dataframe tbody tr th:only-of-type {\n",
       "        vertical-align: middle;\n",
       "    }\n",
       "\n",
       "    .dataframe tbody tr th {\n",
       "        vertical-align: top;\n",
       "    }\n",
       "\n",
       "    .dataframe thead th {\n",
       "        text-align: right;\n",
       "    }\n",
       "</style>\n",
       "<table border=\"1\" class=\"dataframe\">\n",
       "  <thead>\n",
       "    <tr style=\"text-align: right;\">\n",
       "      <th></th>\n",
       "      <th>Ear_shape</th>\n",
       "      <th>Face_shape</th>\n",
       "      <th>Whishers</th>\n",
       "      <th>Cat</th>\n",
       "    </tr>\n",
       "  </thead>\n",
       "  <tbody>\n",
       "    <tr>\n",
       "      <th>0</th>\n",
       "      <td>pointy</td>\n",
       "      <td>round</td>\n",
       "      <td>present</td>\n",
       "      <td>1</td>\n",
       "    </tr>\n",
       "    <tr>\n",
       "      <th>1</th>\n",
       "      <td>floppy</td>\n",
       "      <td>not round</td>\n",
       "      <td>present</td>\n",
       "      <td>1</td>\n",
       "    </tr>\n",
       "    <tr>\n",
       "      <th>2</th>\n",
       "      <td>floppy</td>\n",
       "      <td>round</td>\n",
       "      <td>absent</td>\n",
       "      <td>0</td>\n",
       "    </tr>\n",
       "    <tr>\n",
       "      <th>3</th>\n",
       "      <td>pointy</td>\n",
       "      <td>not round</td>\n",
       "      <td>present</td>\n",
       "      <td>0</td>\n",
       "    </tr>\n",
       "    <tr>\n",
       "      <th>4</th>\n",
       "      <td>pointy</td>\n",
       "      <td>round</td>\n",
       "      <td>present</td>\n",
       "      <td>1</td>\n",
       "    </tr>\n",
       "    <tr>\n",
       "      <th>5</th>\n",
       "      <td>pointy</td>\n",
       "      <td>round</td>\n",
       "      <td>absent</td>\n",
       "      <td>1</td>\n",
       "    </tr>\n",
       "    <tr>\n",
       "      <th>6</th>\n",
       "      <td>floppy</td>\n",
       "      <td>not round</td>\n",
       "      <td>absent</td>\n",
       "      <td>0</td>\n",
       "    </tr>\n",
       "    <tr>\n",
       "      <th>7</th>\n",
       "      <td>pointy</td>\n",
       "      <td>round</td>\n",
       "      <td>absent</td>\n",
       "      <td>1</td>\n",
       "    </tr>\n",
       "    <tr>\n",
       "      <th>8</th>\n",
       "      <td>floppy</td>\n",
       "      <td>round</td>\n",
       "      <td>absent</td>\n",
       "      <td>0</td>\n",
       "    </tr>\n",
       "    <tr>\n",
       "      <th>9</th>\n",
       "      <td>floppy</td>\n",
       "      <td>round</td>\n",
       "      <td>absent</td>\n",
       "      <td>0</td>\n",
       "    </tr>\n",
       "  </tbody>\n",
       "</table>\n",
       "</div>"
      ],
      "text/plain": [
       "  Ear_shape Face_shape Whishers  Cat\n",
       "0    pointy      round  present    1\n",
       "1    floppy  not round  present    1\n",
       "2    floppy      round   absent    0\n",
       "3    pointy  not round  present    0\n",
       "4    pointy      round  present    1\n",
       "5    pointy      round   absent    1\n",
       "6    floppy  not round   absent    0\n",
       "7    pointy      round   absent    1\n",
       "8    floppy      round   absent    0\n",
       "9    floppy      round   absent    0"
      ]
     },
     "execution_count": 6,
     "metadata": {},
     "output_type": "execute_result"
    }
   ],
   "source": [
    "df.head()"
   ]
  },
  {
   "cell_type": "markdown",
   "id": "876e9cef",
   "metadata": {},
   "source": [
    "# EDA"
   ]
  },
  {
   "cell_type": "code",
   "execution_count": 7,
   "id": "65d26e34",
   "metadata": {},
   "outputs": [
    {
     "data": {
      "text/plain": [
       "array(['pointy', 'floppy'], dtype=object)"
      ]
     },
     "execution_count": 7,
     "metadata": {},
     "output_type": "execute_result"
    }
   ],
   "source": [
    "df.Ear_shape.unique()"
   ]
  },
  {
   "cell_type": "code",
   "execution_count": 8,
   "id": "1bc3f784",
   "metadata": {},
   "outputs": [
    {
     "data": {
      "text/plain": [
       "array(['round', 'not round'], dtype=object)"
      ]
     },
     "execution_count": 8,
     "metadata": {},
     "output_type": "execute_result"
    }
   ],
   "source": [
    "df.Face_shape.unique()"
   ]
  },
  {
   "cell_type": "code",
   "execution_count": 9,
   "id": "c8642edb",
   "metadata": {},
   "outputs": [
    {
     "data": {
      "text/plain": [
       "array(['present', 'absent'], dtype=object)"
      ]
     },
     "execution_count": 9,
     "metadata": {},
     "output_type": "execute_result"
    }
   ],
   "source": [
    "df.Whishers.unique()"
   ]
  },
  {
   "cell_type": "code",
   "execution_count": 10,
   "id": "80a44d84",
   "metadata": {},
   "outputs": [],
   "source": [
    "df['Ear_shape'] = df['Ear_shape'].astype('category')\n",
    "df['Face_shape'] = df['Face_shape'].astype('category')\n",
    "df['Whishers'] = df['Whishers'].astype('category')"
   ]
  },
  {
   "cell_type": "code",
   "execution_count": 11,
   "id": "f669d143",
   "metadata": {},
   "outputs": [
    {
     "name": "stdout",
     "output_type": "stream",
     "text": [
      "   Cat  Ear_shape_floppy  Ear_shape_pointy  Face_shape_not round  \\\n",
      "0    1                 0                 1                     0   \n",
      "1    1                 1                 0                     1   \n",
      "2    0                 1                 0                     0   \n",
      "3    0                 0                 1                     1   \n",
      "4    1                 0                 1                     0   \n",
      "5    1                 0                 1                     0   \n",
      "6    0                 1                 0                     1   \n",
      "7    1                 0                 1                     0   \n",
      "8    0                 1                 0                     0   \n",
      "9    0                 1                 0                     0   \n",
      "\n",
      "   Face_shape_round  Whishers_absent  Whishers_present  \n",
      "0                 1                0                 1  \n",
      "1                 0                0                 1  \n",
      "2                 1                1                 0  \n",
      "3                 0                0                 1  \n",
      "4                 1                0                 1  \n",
      "5                 1                1                 0  \n",
      "6                 0                1                 0  \n",
      "7                 1                1                 0  \n",
      "8                 1                1                 0  \n",
      "9                 1                1                 0  \n"
     ]
    }
   ],
   "source": [
    "one_hot_encoded_data = pd.get_dummies(df, columns = ['Ear_shape', 'Face_shape', 'Whishers'])\n",
    "print(one_hot_encoded_data)\n"
   ]
  },
  {
   "cell_type": "code",
   "execution_count": 12,
   "id": "8e12cab6",
   "metadata": {},
   "outputs": [],
   "source": [
    "X = one_hot_encoded_data.drop('Cat', axis =1)\n",
    "y = one_hot_encoded_data ['Cat']"
   ]
  },
  {
   "cell_type": "code",
   "execution_count": 32,
   "id": "2fb27000",
   "metadata": {},
   "outputs": [],
   "source": [
    "X_train, X_test, y_train, y_test = train_test_split(X,y ,\n",
    "                                   random_state=42, \n",
    "                                   test_size=0.25, \n",
    "                                   shuffle=True)"
   ]
  },
  {
   "cell_type": "markdown",
   "id": "9935fc97",
   "metadata": {},
   "source": [
    "# Step 2 | Decision Tree Model"
   ]
  },
  {
   "cell_type": "code",
   "execution_count": 33,
   "id": "3e6b9a24",
   "metadata": {},
   "outputs": [
    {
     "data": {
      "text/plain": [
       "DecisionTreeClassifier()"
      ]
     },
     "execution_count": 33,
     "metadata": {},
     "output_type": "execute_result"
    }
   ],
   "source": [
    "Classifier = DecisionTreeClassifier()\n",
    "Classifier.fit(X_train, y_train)"
   ]
  },
  {
   "cell_type": "code",
   "execution_count": 34,
   "id": "7e641dd8",
   "metadata": {},
   "outputs": [
    {
     "data": {
      "text/plain": [
       "1.0"
      ]
     },
     "execution_count": 34,
     "metadata": {},
     "output_type": "execute_result"
    }
   ],
   "source": [
    "Classifier.score(X_train, y_train)"
   ]
  },
  {
   "cell_type": "code",
   "execution_count": 35,
   "id": "1066205b",
   "metadata": {},
   "outputs": [
    {
     "data": {
      "text/plain": [
       "0.6666666666666666"
      ]
     },
     "execution_count": 35,
     "metadata": {},
     "output_type": "execute_result"
    }
   ],
   "source": [
    "Classifier.score(X_test, y_test)"
   ]
  },
  {
   "cell_type": "markdown",
   "id": "89cae2d7",
   "metadata": {},
   "source": [
    "# Step 3 | Predection"
   ]
  },
  {
   "cell_type": "code",
   "execution_count": 18,
   "id": "e63a5e23",
   "metadata": {},
   "outputs": [
    {
     "data": {
      "text/plain": [
       "array([0, 0, 1], dtype=int64)"
      ]
     },
     "execution_count": 18,
     "metadata": {},
     "output_type": "execute_result"
    }
   ],
   "source": [
    "y_pred = Classifier.predict(X_test)\n",
    "y_pred"
   ]
  },
  {
   "cell_type": "markdown",
   "id": "89e002fe",
   "metadata": {},
   "source": [
    "# Step 4 | Evaluating The Predection\n",
    "\n",
    "### Making the Confusion Matrix"
   ]
  },
  {
   "cell_type": "code",
   "execution_count": 19,
   "id": "70ee0f18",
   "metadata": {},
   "outputs": [
    {
     "name": "stdout",
     "output_type": "stream",
     "text": [
      "Confusion Matrix : \n",
      " [[1 0]\n",
      " [1 1]]\n"
     ]
    }
   ],
   "source": [
    "from sklearn.metrics import confusion_matrix\n",
    "cm = confusion_matrix(y_test, y_pred)\n",
    "\n",
    "print (\"Confusion Matrix : \\n\", cm)\n"
   ]
  },
  {
   "cell_type": "code",
   "execution_count": 20,
   "id": "b7346ca6",
   "metadata": {},
   "outputs": [
    {
     "name": "stdout",
     "output_type": "stream",
     "text": [
      "Accuracy :  0.6666666666666666\n"
     ]
    }
   ],
   "source": [
    "from sklearn.metrics import accuracy_score\n",
    "print (\"Accuracy : \", accuracy_score(y_test, y_pred))"
   ]
  },
  {
   "cell_type": "raw",
   "id": "6af04065",
   "metadata": {},
   "source": [
    "from sklearn.tree import export_graphviz \n",
    "  \n",
    "# export the decision tree to a tree.dot file\n",
    "# for visualizing the plot easily anywhere\n",
    "export_graphviz(Classifier, out_file ='tree.dot',\n",
    "               feature_names =['Cat']) "
   ]
  }
 ],
 "metadata": {
  "kernelspec": {
   "display_name": "Python 3 (ipykernel)",
   "language": "python",
   "name": "python3"
  },
  "language_info": {
   "codemirror_mode": {
    "name": "ipython",
    "version": 3
   },
   "file_extension": ".py",
   "mimetype": "text/x-python",
   "name": "python",
   "nbconvert_exporter": "python",
   "pygments_lexer": "ipython3",
   "version": "3.8.8"
  }
 },
 "nbformat": 4,
 "nbformat_minor": 5
}
