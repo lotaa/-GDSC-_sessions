{
 "cells": [
  {
   "cell_type": "markdown",
   "id": "657d6577",
   "metadata": {},
   "source": [
    "# Importing the required Libs"
   ]
  },
  {
   "cell_type": "code",
   "execution_count": 2,
   "id": "8997ffaa",
   "metadata": {},
   "outputs": [],
   "source": [
    "# Importing the required packages\n",
    "import numpy as np\n",
    "import pandas as pd\n",
    "from sklearn.metrics import confusion_matrix\n",
    "from sklearn.model_selection import train_test_split\n",
    "from sklearn.tree import DecisionTreeClassifier\n",
    "from sklearn.linear_model import LogisticRegression\n",
    "from sklearn.metrics import accuracy_score"
   ]
  },
  {
   "cell_type": "markdown",
   "id": "00ecf792",
   "metadata": {},
   "source": [
    "# Importing the dataset"
   ]
  },
  {
   "cell_type": "code",
   "execution_count": null,
   "id": "6fa85b1e",
   "metadata": {},
   "outputs": [],
   "source": [
    "#write your code\n"
   ]
  },
  {
   "cell_type": "markdown",
   "id": "819e2efa",
   "metadata": {},
   "source": [
    "# show data"
   ]
  },
  {
   "cell_type": "code",
   "execution_count": null,
   "id": "ff63f3ed",
   "metadata": {},
   "outputs": [],
   "source": [
    "#write your code\n"
   ]
  },
  {
   "cell_type": "markdown",
   "id": "785dcbc2",
   "metadata": {},
   "source": [
    "# EDA"
   ]
  },
  {
   "cell_type": "code",
   "execution_count": null,
   "id": "b59fb058",
   "metadata": {},
   "outputs": [],
   "source": [
    "#write your code\n"
   ]
  },
  {
   "cell_type": "code",
   "execution_count": null,
   "id": "3bcf75de",
   "metadata": {},
   "outputs": [],
   "source": []
  },
  {
   "cell_type": "markdown",
   "id": "cee8e091",
   "metadata": {},
   "source": [
    "# Step 2 | Logistic Regression Model"
   ]
  },
  {
   "cell_type": "code",
   "execution_count": null,
   "id": "3534b6b9",
   "metadata": {},
   "outputs": [],
   "source": []
  },
  {
   "cell_type": "code",
   "execution_count": null,
   "id": "e07fd1cd",
   "metadata": {},
   "outputs": [],
   "source": []
  },
  {
   "cell_type": "markdown",
   "id": "6361cea9",
   "metadata": {},
   "source": [
    "# Step 3 | Predection"
   ]
  },
  {
   "cell_type": "code",
   "execution_count": null,
   "id": "92cc8c8c",
   "metadata": {},
   "outputs": [],
   "source": [
    "#write your code\n"
   ]
  },
  {
   "cell_type": "markdown",
   "id": "a5ae0eaf",
   "metadata": {},
   "source": [
    "# Step 4 | Evaluating The Predection\n",
    "\n",
    "### Making the Confusion Matrix"
   ]
  },
  {
   "cell_type": "code",
   "execution_count": null,
   "id": "4f310ea2",
   "metadata": {},
   "outputs": [],
   "source": [
    "#write your code\n"
   ]
  },
  {
   "cell_type": "code",
   "execution_count": null,
   "id": "e0524f8b",
   "metadata": {},
   "outputs": [],
   "source": []
  },
  {
   "cell_type": "markdown",
   "id": "b7c73c3a",
   "metadata": {},
   "source": [
    "# Repeat this steps from 2 to 4 using Decision Tree algorthim"
   ]
  },
  {
   "cell_type": "code",
   "execution_count": null,
   "id": "a51c85ac",
   "metadata": {},
   "outputs": [],
   "source": []
  },
  {
   "cell_type": "code",
   "execution_count": null,
   "id": "63351ad8",
   "metadata": {},
   "outputs": [],
   "source": [
    "#write your code\n"
   ]
  }
 ],
 "metadata": {
  "kernelspec": {
   "display_name": "Python 3 (ipykernel)",
   "language": "python",
   "name": "python3"
  },
  "language_info": {
   "codemirror_mode": {
    "name": "ipython",
    "version": 3
   },
   "file_extension": ".py",
   "mimetype": "text/x-python",
   "name": "python",
   "nbconvert_exporter": "python",
   "pygments_lexer": "ipython3",
   "version": "3.8.8"
  }
 },
 "nbformat": 4,
 "nbformat_minor": 5
}
